{
  "nbformat": 4,
  "nbformat_minor": 0,
  "metadata": {
    "colab": {
      "provenance": []
    },
    "kernelspec": {
      "name": "python3",
      "display_name": "Python 3"
    },
    "language_info": {
      "name": "python"
    }
  },
  "cells": [
    {
      "cell_type": "code",
      "execution_count": null,
      "metadata": {
        "id": "u8jn1yPDsAFA",
        "collapsed": true
      },
      "outputs": [],
      "source": [
        "from sklearn import datasets\n",
        "from sklearn.model_selection import train_test_split\n",
        "from google.colab import files\n",
        "from sklearn.metrics import accuracy_score\n",
        "from sklearn.linear_model import LogisticRegression\n",
        "import numpy as np\n",
        "import pandas as pd\n",
        "\n",
        "#download data\n",
        "df = pd.read_csv('StressLevelDataset.csv')\n",
        "print(df.head())"
      ]
    },
    {
      "cell_type": "code",
      "source": [
        "#Train test data set\n",
        "data = df\n",
        "x = data.drop('stress_level',axis=1)\n",
        "y = data['stress_level']\n",
        "print(\"Before = \",x.shape)"
      ],
      "metadata": {
        "collapsed": true,
        "id": "Bj0Sp86svkr2"
      },
      "execution_count": null,
      "outputs": []
    },
    {
      "cell_type": "code",
      "source": [
        "#Makeing a model\n",
        "\n",
        "x_train,x_test,y_train,y_test = train_test_split(x,y,random_state=42,test_size=0.2)\n",
        "model = LogisticRegression(multi_class='multinomial', solver='lbfgs', max_iter=200)\n",
        "model.fit(x_train, y_train)"
      ],
      "metadata": {
        "id": "g_M0EmToyHPC"
      },
      "execution_count": null,
      "outputs": []
    },
    {
      "cell_type": "code",
      "source": [
        "from sklearn.inspection import permutation_importance\n",
        "\n",
        "result = permutation_importance(model, x_test, y_test, n_repeats=10, random_state=42)\n",
        "\n",
        "for name, importance in zip(x.columns, result.importances_mean):\n",
        "    print(f\"{name}: {importance}\")"
      ],
      "metadata": {
        "id": "_-gVXeNO6Gul"
      },
      "execution_count": null,
      "outputs": []
    },
    {
      "cell_type": "code",
      "source": [
        "#Test model\n",
        "y_pred = model.predict(x_test)\n",
        "\n",
        "y_test_array = np.array(y_test).ravel()\n",
        "y_pred_array = y_pred.ravel()\n",
        "accuracy = accuracy_score(y_test_array, y_pred_array)\n",
        "print(\"Accuracy:\", accuracy)\n",
        "print(y_pred_array[:10])"
      ],
      "metadata": {
        "colab": {
          "base_uri": "https://localhost:8080/"
        },
        "id": "RjGEgxXX0trp",
        "outputId": "77b8002f-f40a-4543-c430-a6b6dae6a34a"
      },
      "execution_count": 51,
      "outputs": [
        {
          "output_type": "stream",
          "name": "stdout",
          "text": [
            "Accuracy: 0.8909090909090909\n",
            "[2 0 1 1 0 1 2 0 1 0]\n"
          ]
        }
      ]
    },
    {
      "cell_type": "code",
      "source": [
        "for n in y_pred_array:\n",
        "  if n == 0:\n",
        "    print(\"Stress level low\")\n",
        "  elif n == 1:\n",
        "    print(\"Stress level normal\")\n",
        "  else:\n",
        "    print(\"Stress level high\")"
      ],
      "metadata": {
        "id": "_lv43NVhEVMZ"
      },
      "execution_count": null,
      "outputs": []
    }
  ]
}