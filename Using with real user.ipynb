{
  "nbformat": 4,
  "nbformat_minor": 0,
  "metadata": {
    "colab": {
      "provenance": []
    },
    "kernelspec": {
      "name": "python3",
      "display_name": "Python 3"
    },
    "language_info": {
      "name": "python"
    }
  },
  "cells": [
    {
      "cell_type": "code",
      "execution_count": null,
      "metadata": {
        "id": "u8jn1yPDsAFA",
        "collapsed": true
      },
      "outputs": [],
      "source": [
        "from sklearn import datasets\n",
        "from sklearn.model_selection import train_test_split\n",
        "from google.colab import files\n",
        "from sklearn.metrics import accuracy_score\n",
        "from sklearn.linear_model import LogisticRegression\n",
        "from sklearn.inspection import permutation_importance\n",
        "import numpy as np\n",
        "import pandas as pd\n",
        "\n",
        "#download data\n",
        "df = pd.read_csv('StressLevelDataset.csv')\n",
        "#print(df.head())"
      ]
    },
    {
      "cell_type": "code",
      "source": [
        "#Train test data set\n",
        "data = df\n",
        "x = data.drop('stress_level',axis=1)\n",
        "y = data['stress_level']\n",
        "#print(\"Before = \",x.shape)"
      ],
      "metadata": {
        "collapsed": true,
        "id": "Bj0Sp86svkr2",
        "colab": {
          "base_uri": "https://localhost:8080/"
        },
        "outputId": "b8c47897-22dd-49e0-ad5a-f3e1e7351161"
      },
      "execution_count": 37,
      "outputs": [
        {
          "output_type": "stream",
          "name": "stdout",
          "text": [
            "Before =  (1100, 20)\n"
          ]
        }
      ]
    },
    {
      "cell_type": "code",
      "source": [
        "#Makeing a model\n",
        "\n",
        "x_train,x_test,y_train,y_test = train_test_split(x,y,random_state=42,test_size=0.2)\n",
        "model = LogisticRegression(multi_class='multinomial', solver='lbfgs', max_iter=200)\n",
        "model.fit(x_train, y_train)"
      ],
      "metadata": {
        "id": "g_M0EmToyHPC"
      },
      "execution_count": null,
      "outputs": []
    },
    {
      "cell_type": "code",
      "source": [
        "result = permutation_importance(model, x_test, y_test, n_repeats=10, random_state=42)\n",
        "\n",
        "for name, importance in zip(x.columns, result.importances_mean):\n",
        "    print(f\"{name}: {importance}\")"
      ],
      "metadata": {
        "id": "_-gVXeNO6Gul"
      },
      "execution_count": null,
      "outputs": []
    },
    {
      "cell_type": "code",
      "source": [
        "#Test model\n",
        "y_pred = model.predict(x_test)\n",
        "\n",
        "y_test_array = np.array(y_test).ravel()\n",
        "y_pred_array = y_pred.ravel()\n",
        "accuracy = accuracy_score(y_test_array, y_pred_array)\n",
        "print(\"Accuracy:\", accuracy)\n",
        "print(y_pred_array[:10])"
      ],
      "metadata": {
        "colab": {
          "base_uri": "https://localhost:8080/"
        },
        "id": "RjGEgxXX0trp",
        "outputId": "3a8c716e-4810-4015-adbb-77aafd473597"
      },
      "execution_count": 40,
      "outputs": [
        {
          "output_type": "stream",
          "name": "stdout",
          "text": [
            "Accuracy: 0.8909090909090909\n",
            "[2 0 1 1 0 1 2 0 1 0]\n"
          ]
        }
      ]
    },
    {
      "cell_type": "code",
      "source": [
        "#Using in real life\n",
        "user_test = []\n",
        "n = 1\n",
        "for i in x:\n",
        "  print(n,i)\n",
        "  n=n+1\n",
        "  user_test.append(int(input()))\n",
        "print(user_test)"
      ],
      "metadata": {
        "colab": {
          "base_uri": "https://localhost:8080/"
        },
        "id": "qgw3PZW8x4j_",
        "outputId": "30162059-6abb-47d2-f72c-e62bd263d801"
      },
      "execution_count": 45,
      "outputs": [
        {
          "output_type": "stream",
          "name": "stdout",
          "text": [
            "1 anxiety(0-30)\n",
            "10\n",
            "2 self_esteem(0-30)\n",
            "25\n",
            "3 mental_health_history(0=bad,1=good)\n",
            "1\n",
            "4 depression_level(0-30)\n",
            "15\n",
            "5 headache(0-5)\n",
            "4\n",
            "6 blood_pressure(0=low,5=high)\n",
            "0\n",
            "7 sleep_quality(0-5)\n",
            "3\n",
            "8 breathing_problem(0-5,0=No)\n",
            "0\n",
            "9 noise_level(0-5)\n",
            "1\n",
            "10 living_conditions(0-5,0=none)\n",
            "2\n",
            "11 safety(0-5)\n",
            "5\n",
            "12 basic_needs(0-5)\n",
            "3\n",
            "13 academic_performance(0-5)\n",
            "5\n",
            "14 study_(0-5,0=cheap)\n",
            "4\n",
            "15 teacher_student_relationship(0-5,0=none)\n",
            "3\n",
            "16 future_career_concerns(0-5)\n",
            "5\n",
            "17 social_support(0-5)\n",
            "5\n",
            "18 peer_pressure(0-5)\n",
            "3\n",
            "19 extracurricular_activities(0-5)\n",
            "3\n",
            "20 bullying(0-5)\n",
            "0\n",
            "[10, 25, 1, 15, 4, 0, 3, 0, 1, 2, 5, 3, 5, 4, 3, 5, 5, 3, 3, 0]\n"
          ]
        }
      ]
    },
    {
      "cell_type": "code",
      "source": [
        "user_test = np.array(user_test).reshape(1, -1)\n",
        "answer = model.predict(user_test)\n",
        "if answer == 0:\n",
        "  print(\"Stress level low\")\n",
        "elif answer == 1:\n",
        "  print(\"Stress level normal\")\n",
        "else:\n",
        "  print(\"Stress level high\")"
      ],
      "metadata": {
        "colab": {
          "base_uri": "https://localhost:8080/"
        },
        "id": "c-d_AA5gkOdD",
        "outputId": "4e7c35cc-390e-4416-902f-13556b353721"
      },
      "execution_count": 46,
      "outputs": [
        {
          "output_type": "stream",
          "name": "stdout",
          "text": [
            "Stress level normal\n"
          ]
        },
        {
          "output_type": "stream",
          "name": "stderr",
          "text": [
            "/usr/local/lib/python3.12/dist-packages/sklearn/utils/validation.py:2739: UserWarning: X does not have valid feature names, but LogisticRegression was fitted with feature names\n",
            "  warnings.warn(\n"
          ]
        }
      ]
    }
  ]
}